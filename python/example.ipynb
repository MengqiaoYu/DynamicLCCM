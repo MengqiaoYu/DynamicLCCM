{
 "cells": [
  {
   "cell_type": "code",
   "execution_count": 6,
   "metadata": {},
   "outputs": [],
   "source": [
    "import MixtureHMM\n",
    "import numpy as np\n",
    "from os import listdir\n",
    "import pandas as pd"
   ]
  },
  {
   "cell_type": "code",
   "execution_count": 8,
   "metadata": {},
   "outputs": [],
   "source": [
    "# Load all sequences of data.\n",
    "data_dir = '/Users/MengqiaoYu/Desktop/Research/WholeTraveler/Data/model/'\n",
    "data_model = []\n",
    "for f in listdir(data_dir):\n",
    "    if f.startswith('.'):\n",
    "        continue\n",
    "    data_ind = pd.read_csv(data_dir + f)"
   ]
  },
  {
   "cell_type": "code",
   "execution_count": 17,
   "metadata": {},
   "outputs": [
    {
     "data": {
      "text/plain": [
       "array([[ 1,  1,  0, 20,  1],\n",
       "       [ 1,  1,  0, 21,  1],\n",
       "       [ 1,  1,  0, 22,  1],\n",
       "       [ 1,  1,  0, 23,  1],\n",
       "       [ 1,  1,  0, 24,  1],\n",
       "       [ 1,  1,  0, 25,  1],\n",
       "       [ 1,  1,  0, 26,  1],\n",
       "       [ 1,  1,  0, 27,  1],\n",
       "       [ 1,  1,  0, 28,  1],\n",
       "       [ 1,  1,  0, 29,  1],\n",
       "       [ 1,  1,  0, 30,  1],\n",
       "       [ 1,  1,  0, 31,  1]])"
      ]
     },
     "execution_count": 17,
     "metadata": {},
     "output_type": "execute_result"
    }
   ],
   "source": [
    "# First five lines (time steps) of one sequence of observation.\n",
    "data_model[0]"
   ]
  },
  {
   "cell_type": "code",
   "execution_count": 10,
   "metadata": {},
   "outputs": [],
   "source": [
    "# Specify the column names\n",
    "header = ['used_public', 'used_own', 'move', 'age', 'employ']\n",
    "choices = ['used_public', 'used_own']\n",
    "trans_cov = ['move', 'age', 'employ']"
   ]
  },
  {
   "cell_type": "code",
   "execution_count": 12,
   "metadata": {},
   "outputs": [
    {
     "name": "stderr",
     "output_type": "stream",
     "text": [
      "2019-05-09 07:40:25,798 The initial values are:\n",
      "2019-05-09 07:40:25,799 \tHere is the initial matrix:\n",
      "2019-05-09 07:40:25,802 [0.09644815 0.90355185]\n",
      "2019-05-09 07:40:25,805 \tHere is the transition model:\n",
      "2019-05-09 07:40:25,807 This the transition model for state 1\n",
      "2019-05-09 07:40:25,811 [[0. 0. 0. 0.]]\n",
      "2019-05-09 07:40:25,814 This the transition model for state 2\n",
      "2019-05-09 07:40:25,816 [[0. 0. 0. 0.]]\n",
      "2019-05-09 07:40:25,818 For choice model 1\n",
      "2019-05-09 07:40:25,820 \tHere is estimates for state 1:\n",
      "2019-05-09 07:40:25,822 [[-2.29680166]]\n",
      "2019-05-09 07:40:25,824 [[0.90861181 0.09138819]]\n",
      "2019-05-09 07:40:25,825 \tHere is estimates for state 2:\n",
      "2019-05-09 07:40:25,828 [[0.01395834]]\n",
      "2019-05-09 07:40:25,830 [[0.49651047 0.50348953]]\n",
      "2019-05-09 07:40:25,832 For choice model 2\n",
      "2019-05-09 07:40:25,833 \tHere is estimates for state 1:\n",
      "2019-05-09 07:40:25,836 [[0.67217415]]\n",
      "2019-05-09 07:40:25,839 [[0.33801018 0.66198982]]\n",
      "2019-05-09 07:40:25,842 \tHere is estimates for state 2:\n",
      "2019-05-09 07:40:25,845 [[-1.34583317]]\n",
      "2019-05-09 07:40:25,847 [[0.79344757 0.20655243]]\n",
      "2019-05-09 07:40:28,305 \tThis is 1 iteration, ll = -9336.650466277832.\n",
      "2019-05-09 07:40:28,305 \tHere is the initial matrix:\n",
      "2019-05-09 07:40:28,306 [0.15762277 0.84237723]\n",
      "2019-05-09 07:40:28,307 \tHere is the transition model:\n",
      "2019-05-09 07:40:28,308 This the transition model for state 1\n",
      "2019-05-09 07:40:28,309 [[-2.43825314 -0.01736644  0.0790167  -0.47662708]]\n",
      "2019-05-09 07:40:28,310 This the transition model for state 2\n",
      "2019-05-09 07:40:28,311 [[ 1.31588508 -0.03542919 -0.03444883 -0.00450714]]\n",
      "2019-05-09 07:40:28,314 For choice model 1\n",
      "2019-05-09 07:40:28,314 \tHere is estimates for state 1:\n",
      "2019-05-09 07:40:28,315 [[-2.41529489]]\n",
      "2019-05-09 07:40:28,316 [[0.9179862 0.0820138]]\n",
      "2019-05-09 07:40:28,317 \tHere is estimates for state 2:\n",
      "2019-05-09 07:40:28,318 [[0.23813644]]\n",
      "2019-05-09 07:40:28,319 [[0.44074565 0.55925435]]\n",
      "2019-05-09 07:40:28,321 For choice model 2\n",
      "2019-05-09 07:40:28,322 \tHere is estimates for state 1:\n",
      "2019-05-09 07:40:28,323 [[1.362162]]\n",
      "2019-05-09 07:40:28,326 [[0.20388915 0.79611085]]\n",
      "2019-05-09 07:40:28,327 \tHere is estimates for state 2:\n",
      "2019-05-09 07:40:28,329 [[-1.06288899]]\n",
      "2019-05-09 07:40:28,330 [[0.74324225 0.25675775]]\n",
      "2019-05-09 07:40:29,717 \tThis is 2 iteration, ll = -8149.557308075734.\n",
      "2019-05-09 07:40:31,133 \tThis is 3 iteration, ll = -7516.914469889591.\n",
      "2019-05-09 07:40:32,397 \tThis is 4 iteration, ll = -7371.580770144946.\n",
      "2019-05-09 07:40:33,581 \tThis is 5 iteration, ll = -7341.734099968234.\n",
      "2019-05-09 07:40:34,907 \tThis is 6 iteration, ll = -7335.255943850482.\n",
      "2019-05-09 07:40:36,525 \tThis is 7 iteration, ll = -7333.067123636948.\n",
      "2019-05-09 07:40:37,777 \tThis is 8 iteration, ll = -7332.051574311723.\n",
      "2019-05-09 07:40:39,090 \tThis is 9 iteration, ll = -7330.872296384302.\n",
      "2019-05-09 07:40:40,458 \tThis is 10 iteration, ll = -7328.884982439604.\n",
      "2019-05-09 07:40:41,679 \tThis is 11 iteration, ll = -7324.593293716785.\n",
      "2019-05-09 07:40:42,999 \tThis is 12 iteration, ll = -7313.395402958739.\n",
      "2019-05-09 07:40:44,217 \tThis is 13 iteration, ll = -7264.394279645896.\n",
      "2019-05-09 07:40:45,399 \tThis is 14 iteration, ll = -7125.043169809749.\n",
      "2019-05-09 07:40:46,578 \tThis is 15 iteration, ll = -7037.592491455532.\n",
      "2019-05-09 07:40:47,742 \tThis is 16 iteration, ll = -7010.829960618825.\n",
      "2019-05-09 07:40:48,915 \tThis is 17 iteration, ll = -7004.280438780898.\n",
      "2019-05-09 07:40:50,078 \tThis is 18 iteration, ll = -7002.454534984672.\n",
      "2019-05-09 07:40:51,284 \tThis is 19 iteration, ll = -7002.1984838303715.\n",
      "2019-05-09 07:40:52,421 \tThis is 20 iteration, ll = -7001.978283578755.\n",
      "2019-05-09 07:40:53,547 \tThis is 21 iteration, ll = -7001.929730933527.\n",
      "2019-05-09 07:40:54,680 \tThis is 22 iteration, ll = -7001.941672641207.\n",
      "2019-05-09 07:40:55,883 \tThis is 23 iteration, ll = -7001.919548304188.\n",
      "2019-05-09 07:40:57,164 \tThis is 24 iteration, ll = -7001.908096426083.\n",
      "2019-05-09 07:40:58,362 \tThis is 25 iteration, ll = -7001.913644878379.\n",
      "2019-05-09 07:40:59,532 \tThis is 26 iteration, ll = -7001.906403109465.\n",
      "2019-05-09 07:41:01,012 \tThis is 27 iteration, ll = -7001.912963832184.\n",
      "2019-05-09 07:41:02,159 \tThis is 28 iteration, ll = -7001.906646813533.\n",
      "2019-05-09 07:41:03,312 \tThis is 29 iteration, ll = -7001.913118100296.\n",
      "2019-05-09 07:41:04,458 \tThis is 30 iteration, ll = -7001.906930647806.\n",
      "2019-05-09 07:41:05,641 \tThis is 31 iteration, ll = -7001.913267968517.\n",
      "2019-05-09 07:41:06,828 \tThis is 32 iteration, ll = -7001.9071135154045.\n",
      "2019-05-09 07:41:08,075 \tThis is 33 iteration, ll = -7001.91332881597.\n",
      "2019-05-09 07:41:09,332 \tThis is 34 iteration, ll = -7001.907186724376.\n",
      "2019-05-09 07:41:10,494 \tThis is 35 iteration, ll = -7001.91335844038.\n"
     ]
    },
    {
     "ename": "KeyboardInterrupt",
     "evalue": "",
     "output_type": "error",
     "traceback": [
      "\u001b[0;31m---------------------------------------------------------------------------\u001b[0m",
      "\u001b[0;31mKeyboardInterrupt\u001b[0m                         Traceback (most recent call last)",
      "\u001b[0;32m<ipython-input-12-52950aff7a07>\u001b[0m in \u001b[0;36m<module>\u001b[0;34m()\u001b[0m\n\u001b[1;32m      4\u001b[0m                    \u001b[0mchoices\u001b[0m\u001b[0;34m=\u001b[0m\u001b[0mchoices\u001b[0m\u001b[0;34m,\u001b[0m\u001b[0;34m\u001b[0m\u001b[0m\n\u001b[1;32m      5\u001b[0m                    trans_cov=trans_cov)\n\u001b[0;32m----> 6\u001b[0;31m \u001b[0mHHMM\u001b[0m\u001b[0;34m.\u001b[0m\u001b[0mtrain\u001b[0m\u001b[0;34m(\u001b[0m\u001b[0mcutoff_value\u001b[0m\u001b[0;34m=\u001b[0m\u001b[0;36m1e-3\u001b[0m\u001b[0;34m,\u001b[0m \u001b[0mmax_iter\u001b[0m\u001b[0;34m=\u001b[0m\u001b[0;36m2\u001b[0m\u001b[0;34m)\u001b[0m\u001b[0;34m\u001b[0m\u001b[0m\n\u001b[0m",
      "\u001b[0;32m~/Desktop/Research/WholeTraveler/Code/python/MixtureHMM.py\u001b[0m in \u001b[0;36mtrain\u001b[0;34m(self, cutoff_value, max_iter)\u001b[0m\n\u001b[1;32m    671\u001b[0m             \u001b[0;31m# Run EM algorithm\u001b[0m\u001b[0;34m\u001b[0m\u001b[0;34m\u001b[0m\u001b[0m\n\u001b[1;32m    672\u001b[0m             \u001b[0mself\u001b[0m\u001b[0;34m.\u001b[0m\u001b[0mm_step\u001b[0m\u001b[0;34m(\u001b[0m\u001b[0;34m)\u001b[0m\u001b[0;34m\u001b[0m\u001b[0m\n\u001b[0;32m--> 673\u001b[0;31m             \u001b[0mself\u001b[0m\u001b[0;34m.\u001b[0m\u001b[0me_step\u001b[0m\u001b[0;34m(\u001b[0m\u001b[0;34m)\u001b[0m\u001b[0;34m\u001b[0m\u001b[0m\n\u001b[0m\u001b[1;32m    674\u001b[0m             \u001b[0mafter_ll\u001b[0m \u001b[0;34m=\u001b[0m \u001b[0msum\u001b[0m\u001b[0;34m(\u001b[0m\u001b[0mself\u001b[0m\u001b[0;34m.\u001b[0m\u001b[0mlog_lls\u001b[0m\u001b[0;34m)\u001b[0m\u001b[0;34m\u001b[0m\u001b[0m\n\u001b[1;32m    675\u001b[0m             \u001b[0mincrease\u001b[0m \u001b[0;34m=\u001b[0m \u001b[0mafter_ll\u001b[0m \u001b[0;34m-\u001b[0m \u001b[0mbefore_ll\u001b[0m\u001b[0;34m\u001b[0m\u001b[0m\n",
      "\u001b[0;32m~/Desktop/Research/WholeTraveler/Code/python/MixtureHMM.py\u001b[0m in \u001b[0;36me_step\u001b[0;34m(self)\u001b[0m\n\u001b[1;32m    541\u001b[0m             log_si, log_gamma, log_ll = self._forward_backward(log_trans_prob=log_trans_prob,\n\u001b[1;32m    542\u001b[0m                                                               \u001b[0mlog_choice_prob\u001b[0m\u001b[0;34m=\u001b[0m\u001b[0mlog_choice_prob\u001b[0m\u001b[0;34m,\u001b[0m\u001b[0;34m\u001b[0m\u001b[0m\n\u001b[0;32m--> 543\u001b[0;31m                                                               log_pi=self.log_pi)\n\u001b[0m\u001b[1;32m    544\u001b[0m             \u001b[0mself\u001b[0m\u001b[0;34m.\u001b[0m\u001b[0mlog_sis\u001b[0m\u001b[0;34m.\u001b[0m\u001b[0mappend\u001b[0m\u001b[0;34m(\u001b[0m\u001b[0mlog_si\u001b[0m\u001b[0;34m)\u001b[0m\u001b[0;34m\u001b[0m\u001b[0m\n\u001b[1;32m    545\u001b[0m             \u001b[0mself\u001b[0m\u001b[0;34m.\u001b[0m\u001b[0mlog_gammas\u001b[0m\u001b[0;34m.\u001b[0m\u001b[0mappend\u001b[0m\u001b[0;34m(\u001b[0m\u001b[0mlog_gamma\u001b[0m\u001b[0;34m)\u001b[0m\u001b[0;34m\u001b[0m\u001b[0m\n",
      "\u001b[0;32m~/Desktop/Research/WholeTraveler/Code/python/MixtureHMM.py\u001b[0m in \u001b[0;36m_forward_backward\u001b[0;34m(self, log_trans_prob, log_choice_prob, log_pi)\u001b[0m\n\u001b[1;32m    490\u001b[0m         \"\"\"\n\u001b[1;32m    491\u001b[0m \u001b[0;34m\u001b[0m\u001b[0m\n\u001b[0;32m--> 492\u001b[0;31m         \u001b[0mlog_alpha\u001b[0m \u001b[0;34m=\u001b[0m \u001b[0mself\u001b[0m\u001b[0;34m.\u001b[0m\u001b[0m_forward\u001b[0m\u001b[0;34m(\u001b[0m\u001b[0mlog_trans_prob\u001b[0m\u001b[0;34m,\u001b[0m \u001b[0mlog_choice_prob\u001b[0m\u001b[0;34m,\u001b[0m \u001b[0mlog_pi\u001b[0m\u001b[0;34m)\u001b[0m\u001b[0;34m\u001b[0m\u001b[0m\n\u001b[0m\u001b[1;32m    493\u001b[0m         \u001b[0;31m# print(\"This is alpha %s\" %np.exp(log_alpha))\u001b[0m\u001b[0;34m\u001b[0m\u001b[0;34m\u001b[0m\u001b[0m\n\u001b[1;32m    494\u001b[0m \u001b[0;34m\u001b[0m\u001b[0m\n",
      "\u001b[0;32m~/Desktop/Research/WholeTraveler/Code/python/MixtureHMM.py\u001b[0m in \u001b[0;36m_forward\u001b[0;34m(self, log_trans_prob, log_choice_prob, log_pi)\u001b[0m\n\u001b[1;32m    437\u001b[0m         \u001b[0;32mfor\u001b[0m \u001b[0mt\u001b[0m \u001b[0;32min\u001b[0m \u001b[0mrange\u001b[0m\u001b[0;34m(\u001b[0m\u001b[0;36m1\u001b[0m\u001b[0;34m,\u001b[0m \u001b[0mT\u001b[0m\u001b[0;34m)\u001b[0m\u001b[0;34m:\u001b[0m\u001b[0;34m\u001b[0m\u001b[0m\n\u001b[1;32m    438\u001b[0m             log_alpha[t, :] = logsumexp(log_alpha[t-1, :]\n\u001b[0;32m--> 439\u001b[0;31m                                         + log_trans_prob[:, t-1, :].T, axis=1) \\\n\u001b[0m\u001b[1;32m    440\u001b[0m                               \u001b[0;34m+\u001b[0m \u001b[0mlog_choice_prob\u001b[0m\u001b[0;34m[\u001b[0m\u001b[0mt\u001b[0m\u001b[0;34m,\u001b[0m \u001b[0;34m:\u001b[0m\u001b[0;34m]\u001b[0m\u001b[0;34m\u001b[0m\u001b[0m\n\u001b[1;32m    441\u001b[0m \u001b[0;34m\u001b[0m\u001b[0m\n",
      "\u001b[0;32m~/anaconda3/lib/python3.6/site-packages/numpy/lib/utils.py\u001b[0m in \u001b[0;36mnewfunc\u001b[0;34m(*args, **kwds)\u001b[0m\n\u001b[1;32m     99\u001b[0m             \u001b[0;34m\"\"\"`arrayrange` is deprecated, use `arange` instead!\"\"\"\u001b[0m\u001b[0;34m\u001b[0m\u001b[0m\n\u001b[1;32m    100\u001b[0m             \u001b[0mwarnings\u001b[0m\u001b[0;34m.\u001b[0m\u001b[0mwarn\u001b[0m\u001b[0;34m(\u001b[0m\u001b[0mdepdoc\u001b[0m\u001b[0;34m,\u001b[0m \u001b[0mDeprecationWarning\u001b[0m\u001b[0;34m,\u001b[0m \u001b[0mstacklevel\u001b[0m\u001b[0;34m=\u001b[0m\u001b[0;36m2\u001b[0m\u001b[0;34m)\u001b[0m\u001b[0;34m\u001b[0m\u001b[0m\n\u001b[0;32m--> 101\u001b[0;31m             \u001b[0;32mreturn\u001b[0m \u001b[0mfunc\u001b[0m\u001b[0;34m(\u001b[0m\u001b[0;34m*\u001b[0m\u001b[0margs\u001b[0m\u001b[0;34m,\u001b[0m \u001b[0;34m**\u001b[0m\u001b[0mkwds\u001b[0m\u001b[0;34m)\u001b[0m\u001b[0;34m\u001b[0m\u001b[0m\n\u001b[0m\u001b[1;32m    102\u001b[0m \u001b[0;34m\u001b[0m\u001b[0m\n\u001b[1;32m    103\u001b[0m         \u001b[0mnewfunc\u001b[0m \u001b[0;34m=\u001b[0m \u001b[0m_set_function_name\u001b[0m\u001b[0;34m(\u001b[0m\u001b[0mnewfunc\u001b[0m\u001b[0;34m,\u001b[0m \u001b[0mold_name\u001b[0m\u001b[0;34m)\u001b[0m\u001b[0;34m\u001b[0m\u001b[0m\n",
      "\u001b[0;32m~/anaconda3/lib/python3.6/site-packages/scipy/special/_logsumexp.py\u001b[0m in \u001b[0;36mlogsumexp\u001b[0;34m(a, axis, b, keepdims, return_sign)\u001b[0m\n\u001b[1;32m    114\u001b[0m     \u001b[0;31m# suppress warnings about log of zero\u001b[0m\u001b[0;34m\u001b[0m\u001b[0;34m\u001b[0m\u001b[0m\n\u001b[1;32m    115\u001b[0m     \u001b[0;32mwith\u001b[0m \u001b[0mnp\u001b[0m\u001b[0;34m.\u001b[0m\u001b[0merrstate\u001b[0m\u001b[0;34m(\u001b[0m\u001b[0mdivide\u001b[0m\u001b[0;34m=\u001b[0m\u001b[0;34m'ignore'\u001b[0m\u001b[0;34m)\u001b[0m\u001b[0;34m:\u001b[0m\u001b[0;34m\u001b[0m\u001b[0m\n\u001b[0;32m--> 116\u001b[0;31m         \u001b[0ms\u001b[0m \u001b[0;34m=\u001b[0m \u001b[0mnp\u001b[0m\u001b[0;34m.\u001b[0m\u001b[0msum\u001b[0m\u001b[0;34m(\u001b[0m\u001b[0mtmp\u001b[0m\u001b[0;34m,\u001b[0m \u001b[0maxis\u001b[0m\u001b[0;34m=\u001b[0m\u001b[0maxis\u001b[0m\u001b[0;34m,\u001b[0m \u001b[0mkeepdims\u001b[0m\u001b[0;34m=\u001b[0m\u001b[0mkeepdims\u001b[0m\u001b[0;34m)\u001b[0m\u001b[0;34m\u001b[0m\u001b[0m\n\u001b[0m\u001b[1;32m    117\u001b[0m         \u001b[0;32mif\u001b[0m \u001b[0mreturn_sign\u001b[0m\u001b[0;34m:\u001b[0m\u001b[0;34m\u001b[0m\u001b[0m\n\u001b[1;32m    118\u001b[0m             \u001b[0msgn\u001b[0m \u001b[0;34m=\u001b[0m \u001b[0mnp\u001b[0m\u001b[0;34m.\u001b[0m\u001b[0msign\u001b[0m\u001b[0;34m(\u001b[0m\u001b[0ms\u001b[0m\u001b[0;34m)\u001b[0m\u001b[0;34m\u001b[0m\u001b[0m\n",
      "\u001b[0;32m~/anaconda3/lib/python3.6/site-packages/numpy/core/fromnumeric.py\u001b[0m in \u001b[0;36msum\u001b[0;34m(a, axis, dtype, out, keepdims)\u001b[0m\n\u001b[1;32m   1880\u001b[0m             \u001b[0;32mreturn\u001b[0m \u001b[0msum\u001b[0m\u001b[0;34m(\u001b[0m\u001b[0maxis\u001b[0m\u001b[0;34m=\u001b[0m\u001b[0maxis\u001b[0m\u001b[0;34m,\u001b[0m \u001b[0mdtype\u001b[0m\u001b[0;34m=\u001b[0m\u001b[0mdtype\u001b[0m\u001b[0;34m,\u001b[0m \u001b[0mout\u001b[0m\u001b[0;34m=\u001b[0m\u001b[0mout\u001b[0m\u001b[0;34m,\u001b[0m \u001b[0;34m**\u001b[0m\u001b[0mkwargs\u001b[0m\u001b[0;34m)\u001b[0m\u001b[0;34m\u001b[0m\u001b[0m\n\u001b[1;32m   1881\u001b[0m     return _methods._sum(a, axis=axis, dtype=dtype,\n\u001b[0;32m-> 1882\u001b[0;31m                          out=out, **kwargs)\n\u001b[0m\u001b[1;32m   1883\u001b[0m \u001b[0;34m\u001b[0m\u001b[0m\n\u001b[1;32m   1884\u001b[0m \u001b[0;34m\u001b[0m\u001b[0m\n",
      "\u001b[0;32m~/anaconda3/lib/python3.6/site-packages/numpy/core/_methods.py\u001b[0m in \u001b[0;36m_sum\u001b[0;34m(a, axis, dtype, out, keepdims)\u001b[0m\n\u001b[1;32m     30\u001b[0m \u001b[0;34m\u001b[0m\u001b[0m\n\u001b[1;32m     31\u001b[0m \u001b[0;32mdef\u001b[0m \u001b[0m_sum\u001b[0m\u001b[0;34m(\u001b[0m\u001b[0ma\u001b[0m\u001b[0;34m,\u001b[0m \u001b[0maxis\u001b[0m\u001b[0;34m=\u001b[0m\u001b[0;32mNone\u001b[0m\u001b[0;34m,\u001b[0m \u001b[0mdtype\u001b[0m\u001b[0;34m=\u001b[0m\u001b[0;32mNone\u001b[0m\u001b[0;34m,\u001b[0m \u001b[0mout\u001b[0m\u001b[0;34m=\u001b[0m\u001b[0;32mNone\u001b[0m\u001b[0;34m,\u001b[0m \u001b[0mkeepdims\u001b[0m\u001b[0;34m=\u001b[0m\u001b[0;32mFalse\u001b[0m\u001b[0;34m)\u001b[0m\u001b[0;34m:\u001b[0m\u001b[0;34m\u001b[0m\u001b[0m\n\u001b[0;32m---> 32\u001b[0;31m     \u001b[0;32mreturn\u001b[0m \u001b[0mumr_sum\u001b[0m\u001b[0;34m(\u001b[0m\u001b[0ma\u001b[0m\u001b[0;34m,\u001b[0m \u001b[0maxis\u001b[0m\u001b[0;34m,\u001b[0m \u001b[0mdtype\u001b[0m\u001b[0;34m,\u001b[0m \u001b[0mout\u001b[0m\u001b[0;34m,\u001b[0m \u001b[0mkeepdims\u001b[0m\u001b[0;34m)\u001b[0m\u001b[0;34m\u001b[0m\u001b[0m\n\u001b[0m\u001b[1;32m     33\u001b[0m \u001b[0;34m\u001b[0m\u001b[0m\n\u001b[1;32m     34\u001b[0m \u001b[0;32mdef\u001b[0m \u001b[0m_prod\u001b[0m\u001b[0;34m(\u001b[0m\u001b[0ma\u001b[0m\u001b[0;34m,\u001b[0m \u001b[0maxis\u001b[0m\u001b[0;34m=\u001b[0m\u001b[0;32mNone\u001b[0m\u001b[0;34m,\u001b[0m \u001b[0mdtype\u001b[0m\u001b[0;34m=\u001b[0m\u001b[0;32mNone\u001b[0m\u001b[0;34m,\u001b[0m \u001b[0mout\u001b[0m\u001b[0;34m=\u001b[0m\u001b[0;32mNone\u001b[0m\u001b[0;34m,\u001b[0m \u001b[0mkeepdims\u001b[0m\u001b[0;34m=\u001b[0m\u001b[0;32mFalse\u001b[0m\u001b[0;34m)\u001b[0m\u001b[0;34m:\u001b[0m\u001b[0;34m\u001b[0m\u001b[0m\n",
      "\u001b[0;31mKeyboardInterrupt\u001b[0m: "
     ]
    }
   ],
   "source": [
    "# Set the model and train. Note we only run two iterations here.\n",
    "HHMM = MixtureHMM.HeteroMixtureHMM(num_states=2)\n",
    "HHMM.set_dataframe(samples=data_model,\n",
    "                   header=header,\n",
    "                   choices=choices,\n",
    "                   trans_cov=trans_cov)\n",
    "HHMM.train(cutoff_value=1e-3, max_iter=2)"
   ]
  }
 ],
 "metadata": {
  "kernelspec": {
   "display_name": "Python 3",
   "language": "python",
   "name": "python3"
  },
  "language_info": {
   "codemirror_mode": {
    "name": "ipython",
    "version": 3
   },
   "file_extension": ".py",
   "mimetype": "text/x-python",
   "name": "python",
   "nbconvert_exporter": "python",
   "pygments_lexer": "ipython3",
   "version": "3.6.5"
  }
 },
 "nbformat": 4,
 "nbformat_minor": 1
}
