{
 "cells": [
  {
   "cell_type": "code",
   "execution_count": 18,
   "metadata": {},
   "outputs": [],
   "source": [
    "import python.MixtureHMM\n",
    "import numpy as np\n",
    "from os import listdir\n",
    "import pandas as pd"
   ]
  },
  {
   "cell_type": "code",
   "execution_count": 28,
   "metadata": {},
   "outputs": [],
   "source": [
    "# Load all sequences of data.\n",
    "data_dir = '/Users/MengqiaoYu/Desktop/Research/WholeTraveler/Data/model/'\n",
    "data_model = []\n",
    "for f in listdir(data_dir):\n",
    "    if f.startswith('.'):\n",
    "        continue\n",
    "    data_ind = pd.read_csv(data_dir + f)\n",
    "    data_model.append(data_ind[['used_public', 'used_own', 'move', 'age', 'employ']].values)"
   ]
  },
  {
   "cell_type": "code",
   "execution_count": 29,
   "metadata": {},
   "outputs": [
    {
     "data": {
      "text/plain": [
       "array([[ 1,  1,  0, 20,  1],\n",
       "       [ 1,  1,  0, 21,  1],\n",
       "       [ 1,  1,  0, 22,  1]])"
      ]
     },
     "execution_count": 29,
     "metadata": {},
     "output_type": "execute_result"
    }
   ],
   "source": [
    "# First five lines (time steps) of one sequence of observation.\n",
    "data_model[0][:3]"
   ]
  },
  {
   "cell_type": "code",
   "execution_count": 30,
   "metadata": {},
   "outputs": [],
   "source": [
    "# Specify the column names\n",
    "header = ['used_public', 'used_own', 'move', 'age', 'employ']\n",
    "choices = ['used_public', 'used_own']\n",
    "trans_cov = ['move', 'age', 'employ']"
   ]
  },
  {
   "cell_type": "code",
   "execution_count": 31,
   "metadata": {},
   "outputs": [
    {
     "name": "stderr",
     "output_type": "stream",
     "text": [
      "2019-05-09 07:56:23,888 The initial values are:\n",
      "2019-05-09 07:56:23,889 \tHere is the initial matrix:\n",
      "2019-05-09 07:56:23,890 [0.95589332 0.04410668]\n",
      "2019-05-09 07:56:23,891 \tHere is the transition model:\n",
      "2019-05-09 07:56:23,892 This the transition model for state 1\n",
      "2019-05-09 07:56:23,893 [[0. 0. 0. 0.]]\n",
      "2019-05-09 07:56:23,894 This the transition model for state 2\n",
      "2019-05-09 07:56:23,895 [[0. 0. 0. 0.]]\n",
      "2019-05-09 07:56:23,896 For choice model 1\n",
      "2019-05-09 07:56:23,897 \tHere is estimates for state 1:\n",
      "2019-05-09 07:56:23,898 [[-1.83225172]]\n",
      "2019-05-09 07:56:23,900 [[0.86202975 0.13797025]]\n",
      "2019-05-09 07:56:23,906 \tHere is estimates for state 2:\n",
      "2019-05-09 07:56:23,912 [[1.00848847]]\n",
      "2019-05-09 07:56:23,919 [[0.26727576 0.73272424]]\n",
      "2019-05-09 07:56:23,924 For choice model 2\n",
      "2019-05-09 07:56:23,929 \tHere is estimates for state 1:\n",
      "2019-05-09 07:56:23,937 [[-1.49828821]]\n",
      "2019-05-09 07:56:23,942 [[0.81731903 0.18268097]]\n",
      "2019-05-09 07:56:23,944 \tHere is estimates for state 2:\n",
      "2019-05-09 07:56:23,949 [[-0.39797164]]\n",
      "2019-05-09 07:56:23,952 [[0.59820023 0.40179977]]\n",
      "2019-05-09 07:56:26,602 \tThis is 1 iteration, ll = -10784.633245206183.\n",
      "2019-05-09 07:56:26,602 \tHere is the initial matrix:\n",
      "2019-05-09 07:56:26,603 [0.92935978 0.07064022]\n",
      "2019-05-09 07:56:26,604 \tHere is the transition model:\n",
      "2019-05-09 07:56:26,604 This the transition model for state 1\n",
      "2019-05-09 07:56:26,606 [[-0.95001715  0.07150196  0.02112033  0.15664693]]\n",
      "2019-05-09 07:56:26,609 This the transition model for state 2\n",
      "2019-05-09 07:56:26,610 [[ 1.27978568 -0.02017831 -0.03720779  0.01090002]]\n",
      "2019-05-09 07:56:26,611 For choice model 1\n",
      "2019-05-09 07:56:26,611 \tHere is estimates for state 1:\n",
      "2019-05-09 07:56:26,612 [[-1.88282598]]\n",
      "2019-05-09 07:56:26,614 [[0.86793539 0.13206461]]\n",
      "2019-05-09 07:56:26,616 \tHere is estimates for state 2:\n",
      "2019-05-09 07:56:26,619 [[0.14662713]]\n",
      "2019-05-09 07:56:26,623 [[0.46340875 0.53659125]]\n",
      "2019-05-09 07:56:26,629 For choice model 2\n",
      "2019-05-09 07:56:26,632 \tHere is estimates for state 1:\n",
      "2019-05-09 07:56:26,635 [[0.1442489]]\n",
      "2019-05-09 07:56:26,637 [[0.46400018 0.53599982]]\n",
      "2019-05-09 07:56:26,639 \tHere is estimates for state 2:\n",
      "2019-05-09 07:56:26,642 [[0.09542375]]\n",
      "2019-05-09 07:56:26,643 [[0.47616215 0.52383785]]\n",
      "2019-05-09 07:56:27,962 \tThis is 2 iteration, ll = -10226.525353899708.\n",
      "2019-05-09 07:56:29,193 \tThis is 3 iteration, ll = -9090.237907071629.\n",
      "2019-05-09 07:56:30,356 \tThis is 4 iteration, ll = -8181.291721303768.\n",
      "2019-05-09 07:56:31,614 \tThis is 5 iteration, ll = -7934.854328313215.\n",
      "2019-05-09 07:56:32,813 \tThis is 6 iteration, ll = -7848.532544481644.\n",
      "2019-05-09 07:56:34,058 \tThis is 7 iteration, ll = -7789.138267264149.\n",
      "2019-05-09 07:56:35,394 \tThis is 8 iteration, ll = -7742.5961830579345.\n",
      "2019-05-09 07:56:36,771 \tThis is 9 iteration, ll = -7711.71664541917.\n",
      "2019-05-09 07:56:38,052 \tThis is 10 iteration, ll = -7695.045647774222.\n",
      "2019-05-09 07:56:39,346 \tThis is 11 iteration, ll = -7687.051894413443.\n",
      "2019-05-09 07:56:40,496 \tThis is 12 iteration, ll = -7684.203871199391.\n",
      "2019-05-09 07:56:41,780 \tThis is 13 iteration, ll = -7683.018503924074.\n",
      "2019-05-09 07:56:43,141 \tThis is 14 iteration, ll = -7682.570652098532.\n",
      "2019-05-09 07:56:44,403 \tThis is 15 iteration, ll = -7682.363708510183.\n",
      "2019-05-09 07:56:45,902 \tThis is 16 iteration, ll = -7680.51400946616.\n",
      "2019-05-09 07:56:47,313 \tThis is 17 iteration, ll = -7680.466620763098.\n",
      "2019-05-09 07:56:49,000 \tThis is 18 iteration, ll = -7680.420296302296.\n",
      "2019-05-09 07:56:50,403 \tThis is 19 iteration, ll = -7680.398015774544.\n",
      "2019-05-09 07:56:51,606 \tThis is 20 iteration, ll = -7680.388495727355.\n",
      "2019-05-09 07:56:53,189 \tThis is 21 iteration, ll = -7680.389828748901.\n",
      "2019-05-09 07:56:54,572 \tThis is 22 iteration, ll = -7680.377795705685.\n",
      "2019-05-09 07:56:56,267 \tThis is 23 iteration, ll = -7680.380575728336.\n",
      "2019-05-09 07:56:57,941 \tThis is 24 iteration, ll = -7680.373763193959.\n",
      "2019-05-09 07:56:59,077 \tThis is 25 iteration, ll = -7680.378480986959.\n",
      "2019-05-09 07:57:00,654 \tThis is 26 iteration, ll = -7680.372537213745.\n",
      "2019-05-09 07:57:02,699 \tThis is 27 iteration, ll = -7680.3778857658235.\n",
      "2019-05-09 07:57:03,924 \tThis is 28 iteration, ll = -7680.372211501155.\n",
      "2019-05-09 07:57:05,185 \tThis is 29 iteration, ll = -7680.377745150293.\n",
      "2019-05-09 07:57:06,396 \tThis is 30 iteration, ll = -7680.372102763813.\n",
      "2019-05-09 07:57:08,241 \tThis is 31 iteration, ll = -7680.377674987808.\n",
      "2019-05-09 07:57:09,542 \tThis is 32 iteration, ll = -7680.372008463624.\n",
      "2019-05-09 07:57:10,736 \tThis is 33 iteration, ll = -7680.377605947432.\n",
      "2019-05-09 07:57:11,881 \tThis is 34 iteration, ll = -7680.3719251292805.\n",
      "2019-05-09 07:57:13,033 \tThis is 35 iteration, ll = -7680.3775638817015.\n",
      "2019-05-09 07:57:14,434 \tThis is 36 iteration, ll = -7680.371829179455.\n",
      "2019-05-09 07:57:16,002 \tThis is 37 iteration, ll = -7680.377519690635.\n",
      "2019-05-09 07:57:17,224 \tThis is 38 iteration, ll = -7680.371726087391.\n",
      "2019-05-09 07:57:18,657 \tThis is 39 iteration, ll = -7680.377487073131.\n",
      "2019-05-09 07:57:20,033 \tThis is 40 iteration, ll = -7680.371616905788.\n",
      "2019-05-09 07:57:21,390 \tThis is 41 iteration, ll = -7680.377491722133.\n",
      "2019-05-09 07:57:22,756 \tThis is 42 iteration, ll = -7680.371499632197.\n",
      "2019-05-09 07:57:24,114 \tThis is 43 iteration, ll = -7680.377615981758.\n",
      "2019-05-09 07:57:26,217 \tThis is 44 iteration, ll = -7680.3713640796805.\n",
      "2019-05-09 07:57:27,670 \tThis is 45 iteration, ll = -7680.378362497428.\n",
      "2019-05-09 07:57:28,954 \tThis is 46 iteration, ll = -7680.371100150075.\n",
      "2019-05-09 07:57:30,082 \tThis is 47 iteration, ll = -7680.356335449018.\n",
      "2019-05-09 07:57:31,242 \tThis is 48 iteration, ll = -7680.354416846638.\n",
      "2019-05-09 07:57:32,683 \tThis is 49 iteration, ll = -7680.356380745747.\n",
      "2019-05-09 07:57:33,932 \tThis is 50 iteration, ll = -7680.354574167096.\n",
      "2019-05-09 07:57:35,070 \tThis is 51 iteration, ll = -7680.356564903017.\n",
      "2019-05-09 07:57:35,071 \tHere is the initial matrix:\n",
      "2019-05-09 07:57:35,071 [0.69745876 0.30254124]\n",
      "2019-05-09 07:57:35,072 \tHere is the transition model:\n",
      "2019-05-09 07:57:35,074 This the transition model for state 1\n",
      "2019-05-09 07:57:35,075 [[-9.8544264   0.11334339  0.30194969 -0.34056011]]\n",
      "2019-05-09 07:57:35,076 This the transition model for state 2\n",
      "2019-05-09 07:57:35,077 [[ 7.66077266 -0.30242639 -0.23798356  0.20301599]]\n",
      "2019-05-09 07:57:35,078 For choice model 1\n",
      "2019-05-09 07:57:35,079 \tHere is estimates for state 1:\n",
      "2019-05-09 07:57:35,080 [[-5.75354713]]\n",
      "2019-05-09 07:57:35,081 [[0.99683852 0.00316148]]\n",
      "2019-05-09 07:57:35,082 \tHere is estimates for state 2:\n",
      "2019-05-09 07:57:35,083 [[4.6658087]]\n",
      "2019-05-09 07:57:35,084 [[0.00932388 0.99067612]]\n",
      "2019-05-09 07:57:35,084 For choice model 2\n",
      "2019-05-09 07:57:35,085 \tHere is estimates for state 1:\n",
      "2019-05-09 07:57:35,086 [[0.71930568]]\n",
      "2019-05-09 07:57:35,087 [[0.32754589 0.67245411]]\n",
      "2019-05-09 07:57:35,088 \tHere is estimates for state 2:\n",
      "2019-05-09 07:57:35,088 [[-1.23201558]]\n",
      "2019-05-09 07:57:35,089 [[0.77417115 0.22582885]]\n",
      "2019-05-09 07:57:36,232 \tThis is 52 iteration, ll = -7680.3556209886065.\n",
      "2019-05-09 07:57:36,232 \tThe estimation results are:\n",
      "2019-05-09 07:57:36,233 \tHere is the initial matrix:\n",
      "2019-05-09 07:57:36,233 [0.69745885 0.30254115]\n",
      "2019-05-09 07:57:36,234 \tHere is the transition model:\n",
      "2019-05-09 07:57:36,235 This the transition model for state 1\n",
      "2019-05-09 07:57:36,235 [[-9.85442579  0.11334378  0.30194894 -0.34056051]]\n",
      "2019-05-09 07:57:36,236 This the transition model for state 2\n",
      "2019-05-09 07:57:36,237 [[ 7.66076225 -0.3024161  -0.23798422  0.20301342]]\n",
      "2019-05-09 07:57:36,238 For choice model 1\n",
      "2019-05-09 07:57:36,239 \tHere is estimates for state 1:\n",
      "2019-05-09 07:57:36,240 [[-5.75354713]]\n",
      "2019-05-09 07:57:36,241 [[0.99683852 0.00316148]]\n",
      "2019-05-09 07:57:36,242 \tHere is estimates for state 2:\n",
      "2019-05-09 07:57:36,242 [[4.6658087]]\n",
      "2019-05-09 07:57:36,243 [[0.00932388 0.99067612]]\n",
      "2019-05-09 07:57:36,244 For choice model 2\n",
      "2019-05-09 07:57:36,245 \tHere is estimates for state 1:\n",
      "2019-05-09 07:57:36,246 [[0.71930568]]\n",
      "2019-05-09 07:57:36,247 [[0.32754589 0.67245411]]\n",
      "2019-05-09 07:57:36,248 \tHere is estimates for state 2:\n",
      "2019-05-09 07:57:36,249 [[-1.23201558]]\n",
      "2019-05-09 07:57:36,250 [[0.77417115 0.22582885]]\n",
      "2019-05-09 07:57:36,251 -----------------------THE END-----------------------\n"
     ]
    }
   ],
   "source": [
    "# Set the model and train. Note we only run two iterations here.\n",
    "HHMM = MixtureHMM.HeteroMixtureHMM(num_states=2)\n",
    "HHMM.set_dataframe(samples=data_model,\n",
    "                   header=header,\n",
    "                   choices=choices,\n",
    "                   trans_cov=trans_cov)\n",
    "HHMM.train(cutoff_value=1e-3, max_iter=2)"
   ]
  },
  {
   "cell_type": "code",
   "execution_count": null,
   "metadata": {},
   "outputs": [],
   "source": [
    ""
   ]
  }
 ],
 "metadata": {
  "kernelspec": {
   "display_name": "Python 3",
   "language": "python",
   "name": "python3"
  },
  "language_info": {
   "codemirror_mode": {
    "name": "ipython",
    "version": 3.0
   },
   "file_extension": ".py",
   "mimetype": "text/x-python",
   "name": "python",
   "nbconvert_exporter": "python",
   "pygments_lexer": "ipython3",
   "version": "3.6.5"
  }
 },
 "nbformat": 4,
 "nbformat_minor": 0
}